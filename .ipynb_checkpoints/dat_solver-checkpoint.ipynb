{
 "cells": [
  {
   "cell_type": "markdown",
   "id": "e32926dd-9bd0-48d4-9c41-7c62db78f3d6",
   "metadata": {},
   "source": [
    "# This is a quick notebook that attempts to sovle the DAT task\n",
    "## For more information: https://www.datcreativity.com/task"
   ]
  },
  {
   "cell_type": "code",
   "execution_count": 4,
   "id": "4b461f28-d791-4c04-8cce-1c3193a6c3e6",
   "metadata": {},
   "outputs": [],
   "source": [
    "from bs4 import BeautifulSoup"
   ]
  },
  {
   "cell_type": "code",
   "execution_count": null,
   "id": "edc77d6c-7f41-4110-9420-27dc53b53d6f",
   "metadata": {},
   "outputs": [],
   "source": [
    "# given 7 words, get the appropriate score\n",
    "FILLER_WORDS = [\"1\",\"2\",\"3\"]\n",
    "def getScore(words):\n",
    "    assert(len(words)==7)\n",
    "    "
   ]
  }
 ],
 "metadata": {
  "kernelspec": {
   "display_name": "Python 3",
   "language": "python",
   "name": "python3"
  },
  "language_info": {
   "codemirror_mode": {
    "name": "ipython",
    "version": 3
   },
   "file_extension": ".py",
   "mimetype": "text/x-python",
   "name": "python",
   "nbconvert_exporter": "python",
   "pygments_lexer": "ipython3",
   "version": "3.7.9"
  }
 },
 "nbformat": 4,
 "nbformat_minor": 5
}
