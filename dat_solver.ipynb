{
 "cells": [
  {
   "cell_type": "markdown",
   "id": "e32926dd-9bd0-48d4-9c41-7c62db78f3d6",
   "metadata": {},
   "source": [
    "# This is a quick notebook that attempts to sovle the DAT task\n",
    "## For more information: https://www.datcreativity.com/task"
   ]
  },
  {
   "cell_type": "code",
   "execution_count": 11,
   "id": "4b461f28-d791-4c04-8cce-1c3193a6c3e6",
   "metadata": {},
   "outputs": [],
   "source": [
    "from bs4 import BeautifulSoup\n",
    "import requests\n",
    "import re"
   ]
  },
  {
   "cell_type": "code",
   "execution_count": 12,
   "id": "e7824dcf",
   "metadata": {},
   "outputs": [],
   "source": [
    "# This code has been copy-pasted from deedy/datcreativity-solver on github,  thank you deedy!\n",
    "# Parsing\n",
    "PRECENTILE_REGEX = re.compile('higher than ([0-9\\.]{,})%')\n",
    "def parse(soup):\n",
    "\terrors = soup.findAll('span', {'class': 'error'})\n",
    "\tif len(errors):\n",
    "\t\tetexts = [e.text for e in errors]\n",
    "\t\t# import pdb; pdb.set_trace()\n",
    "\t\treturn None, None, None, etexts\n",
    "\theadertext = soup.find('h2').text\n",
    "\tif headertext == 'Web server is returning an unknown error':\n",
    "\t\treturn None, None, None, ['web server error']\n",
    "\ttry:\n",
    "\t\tscore = soup.find('h2').find('span').text\n",
    "\t\tpercentile = re.search(PRECENTILE_REGEX, soup.find('h2').text).group(1)\n",
    "\t\ttable = [[w.text for w in row.findAll('td')] for row in soup.find('table').findAll('tr')[1:]]\n",
    "\texcept e:\n",
    "\t\timport pdb; pdb.set_trace()\n",
    "\treturn score, percentile, table, None"
   ]
  },
  {
   "cell_type": "code",
   "execution_count": 29,
   "id": "edc77d6c-7f41-4110-9420-27dc53b53d6f",
   "metadata": {},
   "outputs": [],
   "source": [
    "# given 7 words, get the appropriate score\n",
    "FILLER_WORDS = [\"1\",\"2\",\"3\"]\n",
    "def getScore(words):\n",
    "    assert(len(words)==7)\n",
    "    headers = {\n",
    "        'origin': 'https://www.datcreativity.com',\n",
    "        'referer': 'https://www.datcreativity.com/task'\n",
    "    }\n",
    "    all_words = words + FILLER_WORDS\n",
    "    print(all_words)\n",
    "    data = {}\n",
    "    for i in range(len(all_words)):\n",
    "        data[\"words-word\"+str(i+1)] = all_words[i]\n",
    "    data['demographics-age'] = ''\n",
    "    data['demographics-sex'] = 'none'\n",
    "    data['demographics-country'] = 'none'\n",
    "    r = requests.post('https://www.datcreativity.com/task', headers=headers, data=data)\n",
    "    soup = BeautifulSoup(r.text)\n",
    "    print(parse(soup)[0])\n"
   ]
  },
  {
   "cell_type": "code",
   "execution_count": 30,
   "id": "9226d791",
   "metadata": {},
   "outputs": [
    {
     "name": "stdout",
     "output_type": "stream",
     "text": [
      "['quark', 'simulator', 'antidisestablishmentarianism', 'intelligence', 'basement', 'cornea', 'cotton', '1', '2', '3']\n",
      "97.23\n"
     ]
    }
   ],
   "source": [
    "test_words = [\"quark\", \"simulator\", \"antidisestablishmentarianism\", \"intelligence\", \"basement\", \"cornea\", \"cotton\"]\n",
    "getScore(test_words)"
   ]
  },
  {
   "cell_type": "code",
   "execution_count": null,
   "id": "4f3c2372",
   "metadata": {},
   "outputs": [],
   "source": []
  }
 ],
 "metadata": {
  "kernelspec": {
   "display_name": "Python 3.7.9 64-bit",
   "language": "python",
   "name": "python3"
  },
  "language_info": {
   "codemirror_mode": {
    "name": "ipython",
    "version": 3
   },
   "file_extension": ".py",
   "mimetype": "text/x-python",
   "name": "python",
   "nbconvert_exporter": "python",
   "pygments_lexer": "ipython3",
   "version": "3.7.9"
  },
  "vscode": {
   "interpreter": {
    "hash": "c96216ce5d238a06480ef2a7a4d3cb4f994b54f42f71c5e931d0026853b786ab"
   }
  }
 },
 "nbformat": 4,
 "nbformat_minor": 5
}
